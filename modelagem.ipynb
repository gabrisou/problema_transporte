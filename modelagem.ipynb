{
 "cells": [
  {
   "cell_type": "code",
   "execution_count": 2,
   "id": "972e7e69",
   "metadata": {},
   "outputs": [],
   "source": [
    "#Adicionando as bibliotecas necessárias para as análises e soluções do Dataset\n",
    "\n",
    "from gurobipy import Model, GRB\n",
    "import pandas as pd\n",
    "import os \n",
    "import tempfile\n",
    "import subprocess\n",
    "import folium\n",
    "import webbrowser\n",
    "import requests\n",
    "import json"
   ]
  },
  {
   "cell_type": "code",
   "execution_count": 3,
   "id": "09caa5bc",
   "metadata": {},
   "outputs": [
    {
     "name": "stdout",
     "output_type": "stream",
     "text": [
      "['vitoria', 'campinas', 'belo horizonte']\n",
      "['rio de janeiro', 'volta redonda', 'ipatinga', 'ribeirao preto', 'governador valadares']\n"
     ]
    }
   ],
   "source": [
    "#Lista das Fábricas e Clientes \n",
    "\n",
    "origens =[\"vitoria\",\"campinas\",\"belo horizonte\"]\n",
    "destinos = [\"rio de janeiro\",\"volta redonda\",\"ipatinga\",\"ribeirao preto\",\"governador valadares\"]\n",
    "\n",
    "print(origens)\n",
    "print(destinos)\n"
   ]
  },
  {
   "cell_type": "code",
   "execution_count": 4,
   "id": "1b22aec6",
   "metadata": {},
   "outputs": [],
   "source": [
    "#Definindo a Quantidade de Ofertas de Veículos por Origem e as Demandas nos clientes\n",
    "\n",
    "ofertas = {\"vitoria\":40, \"campinas\":35, \"belo horizonte\":25}\n",
    "demandas = {\"rio de janeiro\":30, \"volta redonda\":12, \"ipatinga\":16, \"ribeirao preto\":24, \"governador valadares\":18}\n"
   ]
  },
  {
   "cell_type": "markdown",
   "id": "6fcb341c",
   "metadata": {},
   "source": [
    "### Abaixo os custos será representado pela distância que temos em KM das cidades."
   ]
  },
  {
   "cell_type": "code",
   "execution_count": 5,
   "id": "37af02e9",
   "metadata": {},
   "outputs": [],
   "source": [
    "#Criando os custos que teremos de Transporte de cada origem para cada destino\n",
    "\n",
    "custos = {\n",
    "    (\"vitoria\", \"rio de janeiro\"):517, (\"vitoria\", \"volta redonda\"): 555, (\"vitoria\", \"ipatinga\"): 405, (\"vitoria\", \"ribeirao preto\"): 1023, (\"vitoria\", \"governador valadares\"): 360,\n",
    "    (\"campinas\", \"rio de janeiro\"): 493, (\"campinas\", \"volta redonda\"): 375, (\"campinas\", \"ipatinga\"): 790, (\"campinas\",\"ribeirao preto\"): 223, (\"campinas\",\"governador valadares\"): 890,\n",
    "    (\"belo horizonte\", \"rio de janeiro\"): 441, (\"belo horizonte\", \"volta redonda\"): 439, (\"belo horizonte\", \"ipatinga\"): 212, (\"belo horizonte\", \"ribeirao preto\"): 513, (\"belo horizonte\", \"governador valadares\"): 315,\n",
    "}"
   ]
  },
  {
   "cell_type": "markdown",
   "id": "4bf20552",
   "metadata": {},
   "source": [
    "### Criando as Variáveis de Descisão e a Função Objetivo"
   ]
  },
  {
   "cell_type": "code",
   "execution_count": 6,
   "id": "126cc73e",
   "metadata": {},
   "outputs": [
    {
     "name": "stdout",
     "output_type": "stream",
     "text": [
      "Set parameter Username\n"
     ]
    }
   ],
   "source": [
    "modelo = Model(\"problema_de_transporte\")"
   ]
  },
  {
   "cell_type": "code",
   "execution_count": 11,
   "id": "1a42c1d5",
   "metadata": {},
   "outputs": [],
   "source": [
    "# Variáveis de decisão (quantidade a ser transportada de cada origem para cada destino)\n",
    "\n",
    "var_decisao = {}\n",
    "for origem in origens:\n",
    "    for destino in destinos:\n",
    "        var_decisao[origem, destino] = modelo.addVar(vtype=GRB.CONTINUOUS, name=f\"Quantidade_{origem}_{destino}\")\n",
    "        \n",
    "# Adicione a função objetivo (minimizar os custos de transporte)\n",
    "modelo.setObjective(\n",
    "    sum(var_decisao[origem, destino] * custos[origem, destino] for origem in origens for destino in destinos),\n",
    "    GRB.MINIMIZE\n",
    ")"
   ]
  },
  {
   "cell_type": "code",
   "execution_count": 12,
   "id": "176a2414",
   "metadata": {},
   "outputs": [],
   "source": [
    "# restrições de oferta e demanda\n",
    "\n",
    "for origem in origens:\n",
    "    modelo.addConstr(sum(var_decisao[origem, destino] for destino in destinos) <= ofertas[origem], f\"Oferta_{origem}\")\n",
    "\n",
    "for destino in destinos:\n",
    "    modelo.addConstr(sum(var_decisao[origem, destino] for origem in origens) >= demandas[destino], f\"Demanda_{destino}\")"
   ]
  },
  {
   "cell_type": "markdown",
   "id": "1dfe750c",
   "metadata": {},
   "source": [
    "### Resolução do Problema"
   ]
  },
  {
   "cell_type": "code",
   "execution_count": 14,
   "id": "042d7c4b",
   "metadata": {},
   "outputs": [
    {
     "name": "stdout",
     "output_type": "stream",
     "text": [
      "Gurobi Optimizer version 11.0.0 build v11.0.0rc2 (win64 - Windows 11.0 (22621.2))\n",
      "\n",
      "CPU model: Intel(R) Pentium(R) CPU 5405U @ 2.30GHz, instruction set [SSE2]\n",
      "Thread count: 2 physical cores, 4 logical processors, using up to 4 threads\n",
      "\n",
      "Optimize a model with 8 rows, 45 columns and 30 nonzeros\n",
      "Model fingerprint: 0x7b6cd5c6\n",
      "Coefficient statistics:\n",
      "  Matrix range     [1e+00, 1e+00]\n",
      "  Objective range  [2e+02, 1e+03]\n",
      "  Bounds range     [0e+00, 0e+00]\n",
      "  RHS range        [1e+01, 4e+01]\n",
      "Presolve removed 0 rows and 30 columns\n",
      "Presolve time: 0.04s\n",
      "Presolved: 8 rows, 15 columns, 30 nonzeros\n",
      "\n",
      "Iteration    Objective       Primal Inf.    Dual Inf.      Time\n",
      "       0    0.0000000e+00   2.500000e+01   0.000000e+00      0s\n",
      "       9    3.4690000e+04   0.000000e+00   0.000000e+00      0s\n",
      "\n",
      "Solved in 9 iterations and 0.08 seconds (0.00 work units)\n",
      "Optimal objective  3.469000000e+04\n"
     ]
    }
   ],
   "source": [
    "# Rodar o modelo de Otimização\n",
    "\n",
    "modelo.optimize()"
   ]
  },
  {
   "cell_type": "markdown",
   "id": "e3c2a9fb",
   "metadata": {},
   "source": [
    "### Imprimindo a Solução ÓTIMA"
   ]
  },
  {
   "cell_type": "code",
   "execution_count": 246,
   "id": "0a01ae67",
   "metadata": {},
   "outputs": [
    {
     "name": "stdout",
     "output_type": "stream",
     "text": [
      "Status: 2\n",
      "Solução ótima:\n",
      "Enviar 22.0 veículos de vitoria para rio de janeiro\n",
      "Enviar 18.0 veículos de vitoria para governador valadares\n",
      "Enviar 11.0 veículos de campinas para volta redonda\n",
      "Enviar 24.0 veículos de campinas para ribeirao preto\n",
      "Enviar 8.0 veículos de belo horizonte para rio de janeiro\n",
      "Enviar 1.0 veículos de belo horizonte para volta redonda\n",
      "Enviar 16.0 veículos de belo horizonte para ipatinga\n"
     ]
    }
   ],
   "source": [
    "# Imprimir a solução\n",
    "\n",
    "print(\"Status:\", modelo.status)\n",
    "print(\"Solução ótima:\")\n",
    "for origem in origens:\n",
    "    for destino in destinos:\n",
    "        quantidade = var_decisao[origem, destino].x\n",
    "        if quantidade > 0:\n",
    "            print(f\"Enviar {quantidade} veículos de {origem} para {destino}\")"
   ]
  },
  {
   "cell_type": "markdown",
   "id": "2487037c",
   "metadata": {},
   "source": [
    "### Iremos criar um Mapa exemplificando como ficará a Distribuição"
   ]
  },
  {
   "cell_type": "code",
   "execution_count": 15,
   "id": "652be825",
   "metadata": {},
   "outputs": [
    {
     "name": "stdout",
     "output_type": "stream",
     "text": [
      "Mapa de distribuição salvo e aberto em: C:\\Users\\Gabriel Souza\\AppData\\Local\\Temp\\mapa_distribuicao.html\n"
     ]
    }
   ],
   "source": [
    "# Coordenadas aproximadas do Brasil\n",
    "\n",
    "mapa = folium.Map(location=[-22.9068, -43.1729], zoom_start=5)\n",
    "\n",
    "# Adicionando marcadores das Latitudes e Longitudes das Fábricas e Clientes\n",
    "\n",
    "fabricas = {\"vitoria\": {\"latitude\": -20.3155, \"longitude\": -40.3128},\n",
    "            \"campinas\": {\"latitude\": -22.9071, \"longitude\": -47.0633},\n",
    "            \"belo horizonte\": {\"latitude\": -19.8157, \"longitude\": -43.9542}}\n",
    "\n",
    "clientes = {\"rio de janeiro\": {\"latitude\": -22.9068, \"longitude\": -43.1729},\n",
    "            \"volta redonda\": {\"latitude\": -22.5207, \"longitude\": -44.1026},\n",
    "            \"ipatinga\": {\"latitude\": -19.4687, \"longitude\": -42.5367},\n",
    "            \"ribeirao preto\": {\"latitude\": -21.1704, \"longitude\": -47.8103},\n",
    "            \"governador valadares\": {\"latitude\": -18.8499, \"longitude\": -41.9491}}\n",
    "\n",
    "for origem in origens:\n",
    "    folium.Marker(location=[fabricas[origem][\"latitude\"], fabricas[origem][\"longitude\"]],\n",
    "                  icon=folium.Icon(color='blue', icon='industry', prefix='fa')).add_to(mapa)\n",
    "\n",
    "for destino in destinos:\n",
    "    folium.Marker(location=[clientes[destino][\"latitude\"], clientes[destino][\"longitude\"]],\n",
    "                  icon=folium.Icon(color='red', icon='warehouse', prefix='fa')).add_to(mapa)\n",
    "\n",
    "# Adicionar linhas para mostrar a rota\n",
    "\n",
    "for origem in origens:\n",
    "    for destino in destinos:\n",
    "        quantidade = var_decisao[origem, destino].x\n",
    "        if quantidade > 0:\n",
    "            folium.PolyLine(locations=[\n",
    "                [fabricas[origem][\"latitude\"], fabricas[origem][\"longitude\"]],\n",
    "                [clientes[destino][\"latitude\"], clientes[destino][\"longitude\"]]\n",
    "            ], color='blue', weight=2).add_to(mapa)\n",
    "\n",
    "# Salvar o mapa como um arquivo HTML\n",
    "caminho_arquivo_html = os.path.join(tempfile.gettempdir(), \"mapa_distribuicao.html\")\n",
    "mapa.save(caminho_arquivo_html)\n",
    "\n",
    "# Abrir o arquivo HTML no navegador padrão\n",
    "webbrowser.open(caminho_arquivo_html)\n",
    "\n",
    "# Imprimir mensagem de conclusão\n",
    "print(f\"Mapa de distribuição salvo e aberto em: {caminho_arquivo_html}\")"
   ]
  },
  {
   "cell_type": "code",
   "execution_count": null,
   "id": "62e8c645",
   "metadata": {},
   "outputs": [],
   "source": []
  }
 ],
 "metadata": {
  "kernelspec": {
   "display_name": "Python 3 (ipykernel)",
   "language": "python",
   "name": "python3"
  },
  "language_info": {
   "codemirror_mode": {
    "name": "ipython",
    "version": 3
   },
   "file_extension": ".py",
   "mimetype": "text/x-python",
   "name": "python",
   "nbconvert_exporter": "python",
   "pygments_lexer": "ipython3",
   "version": "3.11.5"
  }
 },
 "nbformat": 4,
 "nbformat_minor": 5
}
